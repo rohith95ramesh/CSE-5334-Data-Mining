{
 "cells": [
  {
   "cell_type": "markdown",
   "metadata": {},
   "source": [
    "# PA 2: Classification - Nearest Neighbors\n",
    "\n",
    "## Student Details (1 Point)\n",
    "\n",
    "* Student Name and ID: <b>Bhogal, Gurvir Singh Tarlok Singh, UTA ID: 1001769871</b> <-- Only this student will submit the assignment\n",
    "\n",
    "* Student Name and ID: <b>Rohith Rajagopalan Ramesh Babu, UTA ID: 1001518031</b>\n",
    "\n",
    "* Notes: When submitting, fill your name and ID in this cell. [1 point]\n",
    "* Do not to forget to cite any external sources used by you.\n",
    "\n",
    "## Programming Assignment Submission Instructions ( 2 Points)\n",
    "* Step 3: Rename this submission file as 'yourLastName_Last4digitsofyourID_NN.ipynb' [1 point]\n",
    "* Step 4: Place this file inside the folder 'PA#2_Classification_yourLastName' [1 point]\n",
    "* Programming Assignment Details (25 Points)\n",
    "* \n",
    "* For this assignment use Jupyter notebook, Panda, and scikit.\n",
    "* 1) Load wine dataset from sklearn datasets. [1 points]\n",
    "* 2) Split your dataset 70% for training, and 30% for testing the classifier. [2 points]\n",
    "* 3) Select only 2 attributes for training and testing your model. [2 points]\n",
    "* 4) Use Euclidean distance. [3 points]\n",
    "* 5) Test the classifier with three diferent numbers for neighbors and record the results. [3 points]\n",
    "* 6) Use comments to explain your code and variable names.[2 points]\n",
    "* 7) Calculate and print the confusion matrix, and the classification Report (includes:precision, recall, f1-score, and\n",
    "* support) for all three different numbers.[6 points]\n",
    "* 8) Plot the classifier in a 2D projection for all three different numbers.[6 points]"
   ]
  },
  {
   "cell_type": "code",
   "execution_count": 18,
   "metadata": {},
   "outputs": [],
   "source": [
    "# Importing all required libraries\n",
    "\n",
    "import pandas as pd\n",
    "\n",
    "import numpy as nd\n",
    "\n",
    "from sklearn import datasets\n",
    "\n",
    "from sklearn.neighbors import KNeighborsClassifier\n",
    "\n",
    "from sklearn.metrics import confusion_matrix\n",
    "from sklearn.metrics import accuracy_score\n",
    "from sklearn.metrics import classification_report"
   ]
  },
  {
   "cell_type": "code",
   "execution_count": 19,
   "metadata": {},
   "outputs": [],
   "source": [
    "# Loading the wine dataaset \n",
    "# References:link: https://scikit-learn.org/stable/modules/generated/sklearn.datasets.load_wine.html\n",
    "\n",
    "dataset = datasets.load_wine()"
   ]
  },
  {
   "cell_type": "code",
   "execution_count": 20,
   "metadata": {},
   "outputs": [
    {
     "name": "stdout",
     "output_type": "stream",
     "text": [
      "(178, 13)   (178,)\n"
     ]
    }
   ],
   "source": [
    "# Checking Shape of Required Data Values and Target values \n",
    "\n",
    "print(dataset['data'].shape,\" \",dataset['target'].shape)"
   ]
  },
  {
   "cell_type": "code",
   "execution_count": 21,
   "metadata": {},
   "outputs": [],
   "source": [
    "features = pd.DataFrame(data=dataset['data'],columns=dataset['feature_names'])\n",
    "data = features\n",
    "data['target']=dataset['target']\n"
   ]
  },
  {
   "cell_type": "code",
   "execution_count": 22,
   "metadata": {},
   "outputs": [],
   "source": [
    "new_data = data[[\"alcohol\",\"proline\",\"target\"]]"
   ]
  },
  {
   "cell_type": "code",
   "execution_count": 23,
   "metadata": {},
   "outputs": [
    {
     "data": {
      "text/html": [
       "<div>\n",
       "<style scoped>\n",
       "    .dataframe tbody tr th:only-of-type {\n",
       "        vertical-align: middle;\n",
       "    }\n",
       "\n",
       "    .dataframe tbody tr th {\n",
       "        vertical-align: top;\n",
       "    }\n",
       "\n",
       "    .dataframe thead th {\n",
       "        text-align: right;\n",
       "    }\n",
       "</style>\n",
       "<table border=\"1\" class=\"dataframe\">\n",
       "  <thead>\n",
       "    <tr style=\"text-align: right;\">\n",
       "      <th></th>\n",
       "      <th>alcohol</th>\n",
       "      <th>proline</th>\n",
       "      <th>target</th>\n",
       "    </tr>\n",
       "  </thead>\n",
       "  <tbody>\n",
       "    <tr>\n",
       "      <th>0</th>\n",
       "      <td>14.23</td>\n",
       "      <td>1065.0</td>\n",
       "      <td>0</td>\n",
       "    </tr>\n",
       "    <tr>\n",
       "      <th>1</th>\n",
       "      <td>13.20</td>\n",
       "      <td>1050.0</td>\n",
       "      <td>0</td>\n",
       "    </tr>\n",
       "    <tr>\n",
       "      <th>2</th>\n",
       "      <td>13.16</td>\n",
       "      <td>1185.0</td>\n",
       "      <td>0</td>\n",
       "    </tr>\n",
       "    <tr>\n",
       "      <th>3</th>\n",
       "      <td>14.37</td>\n",
       "      <td>1480.0</td>\n",
       "      <td>0</td>\n",
       "    </tr>\n",
       "    <tr>\n",
       "      <th>4</th>\n",
       "      <td>13.24</td>\n",
       "      <td>735.0</td>\n",
       "      <td>0</td>\n",
       "    </tr>\n",
       "    <tr>\n",
       "      <th>...</th>\n",
       "      <td>...</td>\n",
       "      <td>...</td>\n",
       "      <td>...</td>\n",
       "    </tr>\n",
       "    <tr>\n",
       "      <th>173</th>\n",
       "      <td>13.71</td>\n",
       "      <td>740.0</td>\n",
       "      <td>2</td>\n",
       "    </tr>\n",
       "    <tr>\n",
       "      <th>174</th>\n",
       "      <td>13.40</td>\n",
       "      <td>750.0</td>\n",
       "      <td>2</td>\n",
       "    </tr>\n",
       "    <tr>\n",
       "      <th>175</th>\n",
       "      <td>13.27</td>\n",
       "      <td>835.0</td>\n",
       "      <td>2</td>\n",
       "    </tr>\n",
       "    <tr>\n",
       "      <th>176</th>\n",
       "      <td>13.17</td>\n",
       "      <td>840.0</td>\n",
       "      <td>2</td>\n",
       "    </tr>\n",
       "    <tr>\n",
       "      <th>177</th>\n",
       "      <td>14.13</td>\n",
       "      <td>560.0</td>\n",
       "      <td>2</td>\n",
       "    </tr>\n",
       "  </tbody>\n",
       "</table>\n",
       "<p>178 rows × 3 columns</p>\n",
       "</div>"
      ],
      "text/plain": [
       "     alcohol  proline  target\n",
       "0      14.23   1065.0       0\n",
       "1      13.20   1050.0       0\n",
       "2      13.16   1185.0       0\n",
       "3      14.37   1480.0       0\n",
       "4      13.24    735.0       0\n",
       "..       ...      ...     ...\n",
       "173    13.71    740.0       2\n",
       "174    13.40    750.0       2\n",
       "175    13.27    835.0       2\n",
       "176    13.17    840.0       2\n",
       "177    14.13    560.0       2\n",
       "\n",
       "[178 rows x 3 columns]"
      ]
     },
     "execution_count": 23,
     "metadata": {},
     "output_type": "execute_result"
    }
   ],
   "source": [
    "new_data"
   ]
  },
  {
   "cell_type": "code",
   "execution_count": 40,
   "metadata": {},
   "outputs": [],
   "source": [
    "# Splitting dataset into Train And Test Set - using 70% for Training Data and 30% for Test Data\n",
    "\n",
    "from sklearn.model_selection import train_test_split\n",
    "\n",
    "x_train, x_test, y_train, y_test = train_test_split(new_data[[\"alcohol\",\"proline\"]],\n",
    "                                                    new_data[\"target\"],test_size=0.3)"
   ]
  },
  {
   "cell_type": "code",
   "execution_count": 41,
   "metadata": {},
   "outputs": [
    {
     "data": {
      "text/html": [
       "<div>\n",
       "<style scoped>\n",
       "    .dataframe tbody tr th:only-of-type {\n",
       "        vertical-align: middle;\n",
       "    }\n",
       "\n",
       "    .dataframe tbody tr th {\n",
       "        vertical-align: top;\n",
       "    }\n",
       "\n",
       "    .dataframe thead th {\n",
       "        text-align: right;\n",
       "    }\n",
       "</style>\n",
       "<table border=\"1\" class=\"dataframe\">\n",
       "  <thead>\n",
       "    <tr style=\"text-align: right;\">\n",
       "      <th></th>\n",
       "      <th>alcohol</th>\n",
       "      <th>proline</th>\n",
       "    </tr>\n",
       "  </thead>\n",
       "  <tbody>\n",
       "    <tr>\n",
       "      <th>102</th>\n",
       "      <td>12.34</td>\n",
       "      <td>438.0</td>\n",
       "    </tr>\n",
       "    <tr>\n",
       "      <th>90</th>\n",
       "      <td>12.08</td>\n",
       "      <td>480.0</td>\n",
       "    </tr>\n",
       "    <tr>\n",
       "      <th>177</th>\n",
       "      <td>14.13</td>\n",
       "      <td>560.0</td>\n",
       "    </tr>\n",
       "    <tr>\n",
       "      <th>146</th>\n",
       "      <td>13.88</td>\n",
       "      <td>415.0</td>\n",
       "    </tr>\n",
       "    <tr>\n",
       "      <th>63</th>\n",
       "      <td>12.37</td>\n",
       "      <td>420.0</td>\n",
       "    </tr>\n",
       "  </tbody>\n",
       "</table>\n",
       "</div>"
      ],
      "text/plain": [
       "     alcohol  proline\n",
       "102    12.34    438.0\n",
       "90     12.08    480.0\n",
       "177    14.13    560.0\n",
       "146    13.88    415.0\n",
       "63     12.37    420.0"
      ]
     },
     "execution_count": 41,
     "metadata": {},
     "output_type": "execute_result"
    }
   ],
   "source": [
    "# Displaying First 5 Records for Train Data for selected attributes \n",
    "\n",
    "x_train.head()"
   ]
  },
  {
   "cell_type": "code",
   "execution_count": 42,
   "metadata": {},
   "outputs": [
    {
     "data": {
      "text/plain": [
       "102    1\n",
       "90     1\n",
       "177    2\n",
       "146    2\n",
       "63     1\n",
       "Name: target, dtype: int64"
      ]
     },
     "execution_count": 42,
     "metadata": {},
     "output_type": "execute_result"
    }
   ],
   "source": [
    "# Displaying First 5 Records for Train Data for Target Values \n",
    "\n",
    "y_train.head()"
   ]
  },
  {
   "cell_type": "code",
   "execution_count": 43,
   "metadata": {},
   "outputs": [
    {
     "data": {
      "text/html": [
       "<div>\n",
       "<style scoped>\n",
       "    .dataframe tbody tr th:only-of-type {\n",
       "        vertical-align: middle;\n",
       "    }\n",
       "\n",
       "    .dataframe tbody tr th {\n",
       "        vertical-align: top;\n",
       "    }\n",
       "\n",
       "    .dataframe thead th {\n",
       "        text-align: right;\n",
       "    }\n",
       "</style>\n",
       "<table border=\"1\" class=\"dataframe\">\n",
       "  <thead>\n",
       "    <tr style=\"text-align: right;\">\n",
       "      <th></th>\n",
       "      <th>alcohol</th>\n",
       "      <th>proline</th>\n",
       "    </tr>\n",
       "  </thead>\n",
       "  <tbody>\n",
       "    <tr>\n",
       "      <th>106</th>\n",
       "      <td>12.25</td>\n",
       "      <td>510.0</td>\n",
       "    </tr>\n",
       "    <tr>\n",
       "      <th>103</th>\n",
       "      <td>11.82</td>\n",
       "      <td>415.0</td>\n",
       "    </tr>\n",
       "    <tr>\n",
       "      <th>70</th>\n",
       "      <td>12.29</td>\n",
       "      <td>870.0</td>\n",
       "    </tr>\n",
       "    <tr>\n",
       "      <th>107</th>\n",
       "      <td>12.72</td>\n",
       "      <td>488.0</td>\n",
       "    </tr>\n",
       "    <tr>\n",
       "      <th>82</th>\n",
       "      <td>12.08</td>\n",
       "      <td>630.0</td>\n",
       "    </tr>\n",
       "  </tbody>\n",
       "</table>\n",
       "</div>"
      ],
      "text/plain": [
       "     alcohol  proline\n",
       "106    12.25    510.0\n",
       "103    11.82    415.0\n",
       "70     12.29    870.0\n",
       "107    12.72    488.0\n",
       "82     12.08    630.0"
      ]
     },
     "execution_count": 43,
     "metadata": {},
     "output_type": "execute_result"
    }
   ],
   "source": [
    "# Displaying First 5 Records for Test Data for Selected Attributes Values\n",
    "\n",
    "x_test.head()"
   ]
  },
  {
   "cell_type": "code",
   "execution_count": 44,
   "metadata": {},
   "outputs": [
    {
     "data": {
      "text/plain": [
       "106    1\n",
       "103    1\n",
       "70     1\n",
       "107    1\n",
       "82     1\n",
       "Name: target, dtype: int64"
      ]
     },
     "execution_count": 44,
     "metadata": {},
     "output_type": "execute_result"
    }
   ],
   "source": [
    "# First 5 Records for Test Data for Target Values\n",
    "\n",
    "y_test.head()"
   ]
  },
  {
   "cell_type": "code",
   "execution_count": 45,
   "metadata": {},
   "outputs": [],
   "source": [
    "# Storing accuracies for knn models for k = 1,4,7\n",
    "\n",
    "accuracies = []"
   ]
  },
  {
   "cell_type": "code",
   "execution_count": 46,
   "metadata": {},
   "outputs": [
    {
     "name": "stdout",
     "output_type": "stream",
     "text": [
      "Accuracy of Knn model for k = 1 : 68.51851851851852\n",
      "Confusion Matrix = \n",
      " [[16  0  5]\n",
      " [ 0 13  8]\n",
      " [ 1  3  8]]\n",
      "\n",
      " Classification Report = \n",
      "               precision    recall  f1-score   support\n",
      "\n",
      "           0       0.94      0.76      0.84        21\n",
      "           1       0.81      0.62      0.70        21\n",
      "           2       0.38      0.67      0.48        12\n",
      "\n",
      "    accuracy                           0.69        54\n",
      "   macro avg       0.71      0.68      0.68        54\n",
      "weighted avg       0.77      0.69      0.71        54\n",
      "\n"
     ]
    }
   ],
   "source": [
    "# For k = 1\n",
    "# References: link:https://scikit-learn.org/stable/modules/generated/sklearn.neighbors.KNeighborsClassifier.html\n",
    "\n",
    "model_1 = KNeighborsClassifier(n_neighbors=1,metric = \"euclidean\")\n",
    "model_1.fit(x_train,y_train)\n",
    "y_pred_1 = model_1.predict(x_test)\n",
    "\n",
    "print(\"Accuracy of Knn model for k = 1 :\",accuracy_score(y_test, y_pred_1)*100)\n",
    "print(\"Confusion Matrix = \\n\",confusion_matrix(y_test, y_pred_1))\n",
    "print(\"\\n Classification Report = \\n\",classification_report(y_test, y_pred_1))\n",
    "\n",
    "accuracies.append(accuracy_score(y_test, y_pred_1)*100)\n",
    "\n"
   ]
  },
  {
   "cell_type": "code",
   "execution_count": 47,
   "metadata": {},
   "outputs": [
    {
     "name": "stdout",
     "output_type": "stream",
     "text": [
      "Accuracy of Knn model for k = 4 : 70.37037037037037\n",
      "Confusion Matrix = \n",
      " [[19  0  2]\n",
      " [ 1 18  2]\n",
      " [ 1 10  1]]\n",
      "\n",
      " Classification Report = \n",
      "               precision    recall  f1-score   support\n",
      "\n",
      "           0       0.90      0.90      0.90        21\n",
      "           1       0.64      0.86      0.73        21\n",
      "           2       0.20      0.08      0.12        12\n",
      "\n",
      "    accuracy                           0.70        54\n",
      "   macro avg       0.58      0.62      0.59        54\n",
      "weighted avg       0.65      0.70      0.66        54\n",
      "\n"
     ]
    }
   ],
   "source": [
    "# For k = 4\n",
    "model_2 = KNeighborsClassifier(n_neighbors=4,metric = \"euclidean\")\n",
    "model_2.fit(x_train,y_train)\n",
    "y_pred_2 = model_2.predict(x_test)\n",
    "print(\"Accuracy of Knn model for k = 4 :\",accuracy_score(y_test, y_pred_2)*100)\n",
    "print(\"Confusion Matrix = \\n\",confusion_matrix(y_test, y_pred_2))\n",
    "print(\"\\n Classification Report = \\n\",classification_report(y_test, y_pred_2))\n",
    "\n",
    "accuracies.append(accuracy_score(y_test, y_pred_2)*100)"
   ]
  },
  {
   "cell_type": "code",
   "execution_count": 48,
   "metadata": {},
   "outputs": [
    {
     "name": "stdout",
     "output_type": "stream",
     "text": [
      "Accuracy of Knn model for k = 7 : 66.66666666666666\n",
      "Confusion Matrix = \n",
      " [[16  0  5]\n",
      " [ 1 15  5]\n",
      " [ 0  7  5]]\n",
      "\n",
      " Classification Report = \n",
      "               precision    recall  f1-score   support\n",
      "\n",
      "           0       0.94      0.76      0.84        21\n",
      "           1       0.68      0.71      0.70        21\n",
      "           2       0.33      0.42      0.37        12\n",
      "\n",
      "    accuracy                           0.67        54\n",
      "   macro avg       0.65      0.63      0.64        54\n",
      "weighted avg       0.71      0.67      0.68        54\n",
      "\n"
     ]
    }
   ],
   "source": [
    "# For k = 7\n",
    "model_3 = KNeighborsClassifier(n_neighbors=7,metric = \"euclidean\")\n",
    "model_3.fit(x_train,y_train)\n",
    "y_pred_3 = model_3.predict(x_test)\n",
    "print(\"Accuracy of Knn model for k = 7 :\",accuracy_score(y_test, y_pred_3)*100)\n",
    "print(\"Confusion Matrix = \\n\",confusion_matrix(y_test, y_pred_3))\n",
    "print(\"\\n Classification Report = \\n\",classification_report(y_test, y_pred_3))\n",
    "\n",
    "accuracies.append(accuracy_score(y_test, y_pred_3)*100)"
   ]
  },
  {
   "cell_type": "code",
   "execution_count": 49,
   "metadata": {},
   "outputs": [
    {
     "data": {
      "text/plain": [
       "[68.51851851851852, 70.37037037037037, 66.66666666666666]"
      ]
     },
     "execution_count": 49,
     "metadata": {},
     "output_type": "execute_result"
    }
   ],
   "source": [
    "accuracies"
   ]
  },
  {
   "cell_type": "code",
   "execution_count": 50,
   "metadata": {},
   "outputs": [
    {
     "data": {
      "image/png": "[encoded data removed]",
      "text/plain": [
       "<Figure size 432x288 with 1 Axes>"
      ]
     },
     "metadata": {
      "needs_background": "light"
     },
     "output_type": "display_data"
    }
   ],
   "source": [
    "import matplotlib.pyplot as plt\n",
    "import pandas as pd\n",
    "from sklearn import datasets, neighbors\n",
    "from mlxtend.plotting import plot_decision_regions\n",
    "\n",
    "# Plotting decision region\n",
    "plot_decision_regions(x_test.to_numpy(), y_test.to_numpy(), clf=model_1, legend=2)\n",
    "# Adding axes annotations\n",
    "plt.xlabel(\"X\")\n",
    "plt.ylabel(\"Y\")\n",
    "plt.title(\"Knn with k=1\")\n",
    "plt.show()"
   ]
  },
  {
   "cell_type": "code",
   "execution_count": 51,
   "metadata": {},
   "outputs": [
    {
     "data": {
      "image/png": "[encoded data removed]",
      "text/plain": [
       "<Figure size 432x288 with 1 Axes>"
      ]
     },
     "metadata": {
      "needs_background": "light"
     },
     "output_type": "display_data"
    }
   ],
   "source": [
    "# Plotting decision region\n",
    "plot_decision_regions(x_test.to_numpy(), y_test.to_numpy(), clf=model_2, legend=2)\n",
    "# Adding axes annotations\n",
    "plt.xlabel(\"X\")\n",
    "plt.ylabel(\"Y\")\n",
    "plt.title(\"Knn with k=4\")\n",
    "plt.show()"
   ]
  },
  {
   "cell_type": "code",
   "execution_count": 52,
   "metadata": {},
   "outputs": [
    {
     "data": {
      "image/png": "[encoded data removed]",
      "text/plain": [
       "<Figure size 432x288 with 1 Axes>"
      ]
     },
     "metadata": {
      "needs_background": "light"
     },
     "output_type": "display_data"
    }
   ],
   "source": [
    "# Plotting decision region\n",
    "plot_decision_regions(x_test.to_numpy(), y_test.to_numpy(), clf=model_3, legend=2)\n",
    "# Adding axes annotations\n",
    "plt.xlabel(\"X\")\n",
    "plt.ylabel(\"Y\")\n",
    "plt.title(\"Knn with k=7\")\n",
    "plt.show()"
   ]
  },
  {
   "cell_type": "code",
   "execution_count": 53,
   "metadata": {},
   "outputs": [
    {
     "data": {
      "image/png": "[encoded data removed]",
      "text/plain": [
       "<Figure size 432x288 with 1 Axes>"
      ]
     },
     "metadata": {
      "needs_background": "light"
     },
     "output_type": "display_data"
    }
   ],
   "source": [
    "import matplotlib.pyplot as plt\n",
    "\n",
    "# References: https://matplotlib.org/3.3.2/api/_as_gen/matplotlib.pyplot.figure.html\n",
    "\n",
    "x=[1,4,7]\n",
    "fig = plt.figure()\n",
    "bar_graph = fig.add_axes([0,0,1,1])\n",
    "bar_graph.set_ylabel('Accuracies')\n",
    "bar_graph.set_xlabel('K Values')\n",
    "\n",
    "bar_graph.bar(x,accuracies)\n",
    "plt.show()\n"
   ]
  },
  {
   "cell_type": "markdown",
   "metadata": {},
   "source": [
    "# REFERENCES\n",
    "\n",
    "* https://matplotlib.org/3.3.2/api/_as_gen/matplotlib.pyplot.figure.html\n",
    "* https://scikit-learn.org/stable/modules/generated/sklearn.neighbors.KNeighborsClassifier.html\n",
    "* https://scikit-learn.org/stable/modules/generated/sklearn.datasets.load_wine.html\n"
   ]
  }
 ],
 "metadata": {
  "kernelspec": {
   "display_name": "Python 3",
   "language": "python",
   "name": "python3"
  },
  "language_info": {
   "codemirror_mode": {
    "name": "ipython",
    "version": 3
   },
   "file_extension": ".py",
   "mimetype": "text/x-python",
   "name": "python",
   "nbconvert_exporter": "python",
   "pygments_lexer": "ipython3",
   "version": "3.8.3"
  }
 },
 "nbformat": 4,
 "nbformat_minor": 4
}
